{
  "cells": [
    {
      "cell_type": "markdown",
      "metadata": {
        "id": "view-in-github",
        "colab_type": "text"
      },
      "source": [
        "<a href=\"https://colab.research.google.com/github/RGibesh/Python-Data-Analysis/blob/main/Data_Analysis_using_Python_Workshop.ipynb\" target=\"_parent\"><img src=\"https://colab.research.google.com/assets/colab-badge.svg\" alt=\"Open In Colab\"/></a>"
      ]
    },
    {
      "cell_type": "markdown",
      "metadata": {
        "id": "mbcYvWaPoOL0"
      },
      "source": [
        "\n",
        "## DATA ANALYSIS USING PYTHON"
      ]
    },
    {
      "cell_type": "markdown",
      "metadata": {
        "id": "hQah2w4jWXx2"
      },
      "source": [
        "## Basic Operations  \n",
        "`\n"
      ]
    },
    {
      "cell_type": "markdown",
      "metadata": {
        "id": "fP5gxpt3oOL2"
      },
      "source": [
        "Try the following:"
      ]
    },
    {
      "cell_type": "code",
      "execution_count": null,
      "metadata": {
        "id": "eyVhoLPyoOL3"
      },
      "outputs": [],
      "source": [
        "25+431"
      ]
    },
    {
      "cell_type": "code",
      "execution_count": null,
      "metadata": {
        "id": "dbL1rMZmoOL7"
      },
      "outputs": [],
      "source": [
        "7888*2666"
      ]
    },
    {
      "cell_type": "code",
      "execution_count": null,
      "metadata": {
        "id": "Xxc_pFLWoOL-"
      },
      "outputs": [],
      "source": [
        "3232/4343\n"
      ]
    },
    {
      "cell_type": "code",
      "execution_count": null,
      "metadata": {
        "id": "P1HdvyvGoOMB"
      },
      "outputs": [],
      "source": [
        "32873+4242"
      ]
    },
    {
      "cell_type": "code",
      "execution_count": null,
      "metadata": {
        "id": "Wzf0ijb-oOMD"
      },
      "outputs": [],
      "source": [
        "5**2"
      ]
    },
    {
      "cell_type": "code",
      "execution_count": null,
      "metadata": {
        "id": "pETPS-CloOMF"
      },
      "outputs": [],
      "source": [
        "100**2"
      ]
    },
    {
      "cell_type": "code",
      "execution_count": null,
      "metadata": {
        "id": "dwO5guaJkZ7m"
      },
      "outputs": [],
      "source": [
        "round(56.777,2)"
      ]
    },
    {
      "cell_type": "code",
      "execution_count": null,
      "metadata": {
        "id": "mgGa5XLYoOMK"
      },
      "outputs": [],
      "source": [
        "import math"
      ]
    },
    {
      "cell_type": "code",
      "execution_count": null,
      "metadata": {
        "id": "bhk6zArykZ7m"
      },
      "outputs": [],
      "source": [
        "math.log(50)"
      ]
    },
    {
      "cell_type": "code",
      "execution_count": null,
      "metadata": {
        "id": "WH4vzwgbkZ7n"
      },
      "outputs": [],
      "source": [
        "math.sin(49)"
      ]
    },
    {
      "cell_type": "code",
      "execution_count": null,
      "metadata": {
        "id": "vc6jZBQKkZ7n"
      },
      "outputs": [],
      "source": [
        "math.pi"
      ]
    },
    {
      "cell_type": "code",
      "execution_count": null,
      "metadata": {
        "id": "05rGauOckZ7n"
      },
      "outputs": [],
      "source": [
        "math.ceil(45.6)"
      ]
    },
    {
      "cell_type": "markdown",
      "metadata": {
        "id": "k2GHnG6XoOMN"
      },
      "source": [
        "## Import Data:\n"
      ]
    },
    {
      "cell_type": "markdown",
      "metadata": {
        "id": "TMLHrNa-oOMN"
      },
      "source": [
        "Import Library:\n",
        "\n",
        "import Pandas \n",
        "\n",
        "import pandas as pd"
      ]
    },
    {
      "cell_type": "code",
      "execution_count": null,
      "metadata": {
        "id": "sOtNNl1joOMO"
      },
      "outputs": [],
      "source": [
        "import pandas as pd"
      ]
    },
    {
      "cell_type": "code",
      "execution_count": null,
      "metadata": {
        "id": "9Nb8Z5dpoOMR"
      },
      "outputs": [],
      "source": [
        "data=pd.read_csv('https://raw.githubusercontent.com/ivailop7/Health-Data-Analysis/master/Health%20Data-daily.csv')"
      ]
    },
    {
      "cell_type": "markdown",
      "metadata": {
        "id": "SDnuvPkKoOMU"
      },
      "source": [
        "To get the number of columns and rows in the dataset:"
      ]
    },
    {
      "cell_type": "code",
      "execution_count": null,
      "metadata": {
        "colab": {
          "base_uri": "https://localhost:8080/"
        },
        "id": "ziQl_uKjoOMV",
        "outputId": "1df698af-f572-42fe-b8c1-a8208d076c34"
      },
      "outputs": [
        {
          "output_type": "execute_result",
          "data": {
            "text/plain": [
              "(767, 68)"
            ]
          },
          "metadata": {},
          "execution_count": 5
        }
      ],
      "source": [
        "data.shape"
      ]
    },
    {
      "cell_type": "code",
      "execution_count": null,
      "metadata": {
        "id": "G-v2Py4rUW98"
      },
      "outputs": [],
      "source": [
        "data.shape\n"
      ]
    },
    {
      "cell_type": "code",
      "execution_count": null,
      "metadata": {
        "id": "HtsB6tq9oOMY"
      },
      "outputs": [],
      "source": [
        "data.head()"
      ]
    },
    {
      "cell_type": "code",
      "execution_count": null,
      "metadata": {
        "id": "PYDRxSnSoOMa"
      },
      "outputs": [],
      "source": [
        "data.tail()"
      ]
    },
    {
      "cell_type": "markdown",
      "metadata": {
        "id": "MpqtMVmqoOMd"
      },
      "source": [
        "To see the column headers or variables in the dataset:"
      ]
    },
    {
      "cell_type": "code",
      "execution_count": null,
      "metadata": {
        "colab": {
          "base_uri": "https://localhost:8080/"
        },
        "id": "xpjJIQOQoOMi",
        "outputId": "b785c0b7-66a0-4301-f710-fed0e1dcdcba"
      },
      "outputs": [
        {
          "output_type": "execute_result",
          "data": {
            "text/plain": [
              "Index(['Start', 'Finish', 'Active Calories (kcal)', 'Biotin (mcg)',\n",
              "       'Blood Alcohol Content (%)', 'Blood Glucose (mg/dL)',\n",
              "       'Blood Pressure (Diastolic) (mmHg)', 'Blood Pressure (Systolic) (mmHg)',\n",
              "       'Body Fat Percentage (%)', 'Body Mass Index (count)',\n",
              "       'Body Temperature (degC)', 'Basal Body Temperature (degC)',\n",
              "       'Caffeine (mg)', 'Calcium (mg)', 'Carbohydrates (mg)', 'Chloride (mg)',\n",
              "       'Cholesterol (mg)', 'Chromium (mcg)', 'Copper (mcg)',\n",
              "       'Cycling Distance (mi)', 'Dietary Calories (cal)', 'Distance (km)',\n",
              "       'Electrodermal Activity (mcS)', 'Fiber (g)', 'Flights Climbed (count)',\n",
              "       'Folate (mcg)', 'Forced Expiratory Volume (L)',\n",
              "       'Forced Vital Capacity (L)', 'Heart Rate (count/min)',\n",
              "       'Inhaler Usage (count)', 'Iodine (mcg)', 'Lean Body Mass (kg)',\n",
              "       'Magnesium (mg)', 'Manganese (mg)', 'Molybdenum (mcg)',\n",
              "       'Monosaturated Fat (g)', 'Niacin (mg)', 'NikeFuel (count)',\n",
              "       'Number of Times Fallen (count)', 'Oxygen Saturation (%)',\n",
              "       'Pantothenic Acid (mg)', 'Peak Expiratory Flow Rate (L/min)',\n",
              "       'Peripheral Perfusion Index (%)', 'Phosphorus (mg)',\n",
              "       'Polyunsaturated Fat (g)', 'Potassium (mg)', 'Protein (g)',\n",
              "       'Respiratory Rate (count/min)', 'Resting Calories (kcal)',\n",
              "       'Riboflavin (mg)', 'Saturated Fat (g)', 'Selenium (mcg)', 'Sodium (mg)',\n",
              "       'Steps (count)', 'Sugar (g)', 'Thiamin (mg)', 'Total Fat (g)',\n",
              "       'Vitamin A (mcg)', 'Vitamin B12 (mcg)', 'Vitamin B6 (mg)',\n",
              "       'Vitamin C (mg)', 'Vitamin D (mcg)', 'Vitamin E (mg)',\n",
              "       'Vitamin K (mcg)', 'Weight (kg)', 'Dietary Water (L)', 'Zinc (mg)',\n",
              "       'UV Exposure (count)'],\n",
              "      dtype='object')"
            ]
          },
          "metadata": {},
          "execution_count": 6
        }
      ],
      "source": [
        "data.columns\n"
      ]
    },
    {
      "cell_type": "code",
      "execution_count": null,
      "metadata": {
        "colab": {
          "base_uri": "https://localhost:8080/",
          "height": 445
        },
        "id": "Mfwm_3Q_oOMl",
        "outputId": "c5281d60-b40e-47c5-c532-58dcce123653"
      },
      "outputs": [
        {
          "output_type": "execute_result",
          "data": {
            "text/plain": [
              "       Active Calories (kcal)  Biotin (mcg)  Blood Alcohol Content (%)  \\\n",
              "count              767.000000         767.0                      767.0   \n",
              "mean               346.623511           0.0                        0.0   \n",
              "std                444.076546           0.0                        0.0   \n",
              "min                  0.000000           0.0                        0.0   \n",
              "25%                  0.000000           0.0                        0.0   \n",
              "50%                298.000000           0.0                        0.0   \n",
              "75%                441.043397           0.0                        0.0   \n",
              "max               4100.000000           0.0                        0.0   \n",
              "\n",
              "       Blood Glucose (mg/dL)  Blood Pressure (Diastolic) (mmHg)  \\\n",
              "count             767.000000                         767.000000   \n",
              "mean                0.216093                           0.912647   \n",
              "std                 4.233028                           7.993400   \n",
              "min                 0.000000                           0.000000   \n",
              "25%                 0.000000                           0.000000   \n",
              "50%                 0.000000                           0.000000   \n",
              "75%                 0.000000                           0.000000   \n",
              "max                86.474822                          80.000000   \n",
              "\n",
              "       Blood Pressure (Systolic) (mmHg)  Body Fat Percentage (%)  \\\n",
              "count                        767.000000               767.000000   \n",
              "mean                           1.516297                 0.016415   \n",
              "std                           13.237120                 0.041409   \n",
              "min                            0.000000                 0.000000   \n",
              "25%                            0.000000                 0.000000   \n",
              "50%                            0.000000                 0.000000   \n",
              "75%                            0.000000                 0.000000   \n",
              "max                          125.000000                 0.143000   \n",
              "\n",
              "       Body Mass Index (count)  Body Temperature (degC)  \\\n",
              "count               767.000000                    767.0   \n",
              "mean                  2.660235                      0.0   \n",
              "std                   6.439400                      0.0   \n",
              "min                   0.000000                      0.0   \n",
              "25%                   0.000000                      0.0   \n",
              "50%                   0.000000                      0.0   \n",
              "75%                   0.000000                      0.0   \n",
              "max                  19.200000                      0.0   \n",
              "\n",
              "       Basal Body Temperature (degC)  ...  Vitamin B12 (mcg)  Vitamin B6 (mg)  \\\n",
              "count                          767.0  ...              767.0            767.0   \n",
              "mean                             0.0  ...                0.0              0.0   \n",
              "std                              0.0  ...                0.0              0.0   \n",
              "min                              0.0  ...                0.0              0.0   \n",
              "25%                              0.0  ...                0.0              0.0   \n",
              "50%                              0.0  ...                0.0              0.0   \n",
              "75%                              0.0  ...                0.0              0.0   \n",
              "max                              0.0  ...                0.0              0.0   \n",
              "\n",
              "       Vitamin C (mg)  Vitamin D (mcg)  Vitamin E (mg)  Vitamin K (mcg)  \\\n",
              "count           767.0            767.0           767.0            767.0   \n",
              "mean              0.0              0.0             0.0              0.0   \n",
              "std               0.0              0.0             0.0              0.0   \n",
              "min               0.0              0.0             0.0              0.0   \n",
              "25%               0.0              0.0             0.0              0.0   \n",
              "50%               0.0              0.0             0.0              0.0   \n",
              "75%               0.0              0.0             0.0              0.0   \n",
              "max               0.0              0.0             0.0              0.0   \n",
              "\n",
              "       Weight (kg)  Dietary Water (L)  Zinc (mg)  UV Exposure (count)  \n",
              "count   767.000000              767.0      767.0                767.0  \n",
              "mean      8.273077                0.0        0.0                  0.0  \n",
              "std      20.028158                0.0        0.0                  0.0  \n",
              "min       0.000000                0.0        0.0                  0.0  \n",
              "25%       0.000000                0.0        0.0                  0.0  \n",
              "50%       0.000000                0.0        0.0                  0.0  \n",
              "75%       0.000000                0.0        0.0                  0.0  \n",
              "max      60.150000                0.0        0.0                  0.0  \n",
              "\n",
              "[8 rows x 66 columns]"
            ],
            "text/html": [
              "\n",
              "  <div id=\"df-e2c689a3-9116-44ff-b8c5-8e7e30bbab22\">\n",
              "    <div class=\"colab-df-container\">\n",
              "      <div>\n",
              "<style scoped>\n",
              "    .dataframe tbody tr th:only-of-type {\n",
              "        vertical-align: middle;\n",
              "    }\n",
              "\n",
              "    .dataframe tbody tr th {\n",
              "        vertical-align: top;\n",
              "    }\n",
              "\n",
              "    .dataframe thead th {\n",
              "        text-align: right;\n",
              "    }\n",
              "</style>\n",
              "<table border=\"1\" class=\"dataframe\">\n",
              "  <thead>\n",
              "    <tr style=\"text-align: right;\">\n",
              "      <th></th>\n",
              "      <th>Active Calories (kcal)</th>\n",
              "      <th>Biotin (mcg)</th>\n",
              "      <th>Blood Alcohol Content (%)</th>\n",
              "      <th>Blood Glucose (mg/dL)</th>\n",
              "      <th>Blood Pressure (Diastolic) (mmHg)</th>\n",
              "      <th>Blood Pressure (Systolic) (mmHg)</th>\n",
              "      <th>Body Fat Percentage (%)</th>\n",
              "      <th>Body Mass Index (count)</th>\n",
              "      <th>Body Temperature (degC)</th>\n",
              "      <th>Basal Body Temperature (degC)</th>\n",
              "      <th>...</th>\n",
              "      <th>Vitamin B12 (mcg)</th>\n",
              "      <th>Vitamin B6 (mg)</th>\n",
              "      <th>Vitamin C (mg)</th>\n",
              "      <th>Vitamin D (mcg)</th>\n",
              "      <th>Vitamin E (mg)</th>\n",
              "      <th>Vitamin K (mcg)</th>\n",
              "      <th>Weight (kg)</th>\n",
              "      <th>Dietary Water (L)</th>\n",
              "      <th>Zinc (mg)</th>\n",
              "      <th>UV Exposure (count)</th>\n",
              "    </tr>\n",
              "  </thead>\n",
              "  <tbody>\n",
              "    <tr>\n",
              "      <th>count</th>\n",
              "      <td>767.000000</td>\n",
              "      <td>767.0</td>\n",
              "      <td>767.0</td>\n",
              "      <td>767.000000</td>\n",
              "      <td>767.000000</td>\n",
              "      <td>767.000000</td>\n",
              "      <td>767.000000</td>\n",
              "      <td>767.000000</td>\n",
              "      <td>767.0</td>\n",
              "      <td>767.0</td>\n",
              "      <td>...</td>\n",
              "      <td>767.0</td>\n",
              "      <td>767.0</td>\n",
              "      <td>767.0</td>\n",
              "      <td>767.0</td>\n",
              "      <td>767.0</td>\n",
              "      <td>767.0</td>\n",
              "      <td>767.000000</td>\n",
              "      <td>767.0</td>\n",
              "      <td>767.0</td>\n",
              "      <td>767.0</td>\n",
              "    </tr>\n",
              "    <tr>\n",
              "      <th>mean</th>\n",
              "      <td>346.623511</td>\n",
              "      <td>0.0</td>\n",
              "      <td>0.0</td>\n",
              "      <td>0.216093</td>\n",
              "      <td>0.912647</td>\n",
              "      <td>1.516297</td>\n",
              "      <td>0.016415</td>\n",
              "      <td>2.660235</td>\n",
              "      <td>0.0</td>\n",
              "      <td>0.0</td>\n",
              "      <td>...</td>\n",
              "      <td>0.0</td>\n",
              "      <td>0.0</td>\n",
              "      <td>0.0</td>\n",
              "      <td>0.0</td>\n",
              "      <td>0.0</td>\n",
              "      <td>0.0</td>\n",
              "      <td>8.273077</td>\n",
              "      <td>0.0</td>\n",
              "      <td>0.0</td>\n",
              "      <td>0.0</td>\n",
              "    </tr>\n",
              "    <tr>\n",
              "      <th>std</th>\n",
              "      <td>444.076546</td>\n",
              "      <td>0.0</td>\n",
              "      <td>0.0</td>\n",
              "      <td>4.233028</td>\n",
              "      <td>7.993400</td>\n",
              "      <td>13.237120</td>\n",
              "      <td>0.041409</td>\n",
              "      <td>6.439400</td>\n",
              "      <td>0.0</td>\n",
              "      <td>0.0</td>\n",
              "      <td>...</td>\n",
              "      <td>0.0</td>\n",
              "      <td>0.0</td>\n",
              "      <td>0.0</td>\n",
              "      <td>0.0</td>\n",
              "      <td>0.0</td>\n",
              "      <td>0.0</td>\n",
              "      <td>20.028158</td>\n",
              "      <td>0.0</td>\n",
              "      <td>0.0</td>\n",
              "      <td>0.0</td>\n",
              "    </tr>\n",
              "    <tr>\n",
              "      <th>min</th>\n",
              "      <td>0.000000</td>\n",
              "      <td>0.0</td>\n",
              "      <td>0.0</td>\n",
              "      <td>0.000000</td>\n",
              "      <td>0.000000</td>\n",
              "      <td>0.000000</td>\n",
              "      <td>0.000000</td>\n",
              "      <td>0.000000</td>\n",
              "      <td>0.0</td>\n",
              "      <td>0.0</td>\n",
              "      <td>...</td>\n",
              "      <td>0.0</td>\n",
              "      <td>0.0</td>\n",
              "      <td>0.0</td>\n",
              "      <td>0.0</td>\n",
              "      <td>0.0</td>\n",
              "      <td>0.0</td>\n",
              "      <td>0.000000</td>\n",
              "      <td>0.0</td>\n",
              "      <td>0.0</td>\n",
              "      <td>0.0</td>\n",
              "    </tr>\n",
              "    <tr>\n",
              "      <th>25%</th>\n",
              "      <td>0.000000</td>\n",
              "      <td>0.0</td>\n",
              "      <td>0.0</td>\n",
              "      <td>0.000000</td>\n",
              "      <td>0.000000</td>\n",
              "      <td>0.000000</td>\n",
              "      <td>0.000000</td>\n",
              "      <td>0.000000</td>\n",
              "      <td>0.0</td>\n",
              "      <td>0.0</td>\n",
              "      <td>...</td>\n",
              "      <td>0.0</td>\n",
              "      <td>0.0</td>\n",
              "      <td>0.0</td>\n",
              "      <td>0.0</td>\n",
              "      <td>0.0</td>\n",
              "      <td>0.0</td>\n",
              "      <td>0.000000</td>\n",
              "      <td>0.0</td>\n",
              "      <td>0.0</td>\n",
              "      <td>0.0</td>\n",
              "    </tr>\n",
              "    <tr>\n",
              "      <th>50%</th>\n",
              "      <td>298.000000</td>\n",
              "      <td>0.0</td>\n",
              "      <td>0.0</td>\n",
              "      <td>0.000000</td>\n",
              "      <td>0.000000</td>\n",
              "      <td>0.000000</td>\n",
              "      <td>0.000000</td>\n",
              "      <td>0.000000</td>\n",
              "      <td>0.0</td>\n",
              "      <td>0.0</td>\n",
              "      <td>...</td>\n",
              "      <td>0.0</td>\n",
              "      <td>0.0</td>\n",
              "      <td>0.0</td>\n",
              "      <td>0.0</td>\n",
              "      <td>0.0</td>\n",
              "      <td>0.0</td>\n",
              "      <td>0.000000</td>\n",
              "      <td>0.0</td>\n",
              "      <td>0.0</td>\n",
              "      <td>0.0</td>\n",
              "    </tr>\n",
              "    <tr>\n",
              "      <th>75%</th>\n",
              "      <td>441.043397</td>\n",
              "      <td>0.0</td>\n",
              "      <td>0.0</td>\n",
              "      <td>0.000000</td>\n",
              "      <td>0.000000</td>\n",
              "      <td>0.000000</td>\n",
              "      <td>0.000000</td>\n",
              "      <td>0.000000</td>\n",
              "      <td>0.0</td>\n",
              "      <td>0.0</td>\n",
              "      <td>...</td>\n",
              "      <td>0.0</td>\n",
              "      <td>0.0</td>\n",
              "      <td>0.0</td>\n",
              "      <td>0.0</td>\n",
              "      <td>0.0</td>\n",
              "      <td>0.0</td>\n",
              "      <td>0.000000</td>\n",
              "      <td>0.0</td>\n",
              "      <td>0.0</td>\n",
              "      <td>0.0</td>\n",
              "    </tr>\n",
              "    <tr>\n",
              "      <th>max</th>\n",
              "      <td>4100.000000</td>\n",
              "      <td>0.0</td>\n",
              "      <td>0.0</td>\n",
              "      <td>86.474822</td>\n",
              "      <td>80.000000</td>\n",
              "      <td>125.000000</td>\n",
              "      <td>0.143000</td>\n",
              "      <td>19.200000</td>\n",
              "      <td>0.0</td>\n",
              "      <td>0.0</td>\n",
              "      <td>...</td>\n",
              "      <td>0.0</td>\n",
              "      <td>0.0</td>\n",
              "      <td>0.0</td>\n",
              "      <td>0.0</td>\n",
              "      <td>0.0</td>\n",
              "      <td>0.0</td>\n",
              "      <td>60.150000</td>\n",
              "      <td>0.0</td>\n",
              "      <td>0.0</td>\n",
              "      <td>0.0</td>\n",
              "    </tr>\n",
              "  </tbody>\n",
              "</table>\n",
              "<p>8 rows × 66 columns</p>\n",
              "</div>\n",
              "      <button class=\"colab-df-convert\" onclick=\"convertToInteractive('df-e2c689a3-9116-44ff-b8c5-8e7e30bbab22')\"\n",
              "              title=\"Convert this dataframe to an interactive table.\"\n",
              "              style=\"display:none;\">\n",
              "        \n",
              "  <svg xmlns=\"http://www.w3.org/2000/svg\" height=\"24px\"viewBox=\"0 0 24 24\"\n",
              "       width=\"24px\">\n",
              "    <path d=\"M0 0h24v24H0V0z\" fill=\"none\"/>\n",
              "    <path d=\"M18.56 5.44l.94 2.06.94-2.06 2.06-.94-2.06-.94-.94-2.06-.94 2.06-2.06.94zm-11 1L8.5 8.5l.94-2.06 2.06-.94-2.06-.94L8.5 2.5l-.94 2.06-2.06.94zm10 10l.94 2.06.94-2.06 2.06-.94-2.06-.94-.94-2.06-.94 2.06-2.06.94z\"/><path d=\"M17.41 7.96l-1.37-1.37c-.4-.4-.92-.59-1.43-.59-.52 0-1.04.2-1.43.59L10.3 9.45l-7.72 7.72c-.78.78-.78 2.05 0 2.83L4 21.41c.39.39.9.59 1.41.59.51 0 1.02-.2 1.41-.59l7.78-7.78 2.81-2.81c.8-.78.8-2.07 0-2.86zM5.41 20L4 18.59l7.72-7.72 1.47 1.35L5.41 20z\"/>\n",
              "  </svg>\n",
              "      </button>\n",
              "      \n",
              "  <style>\n",
              "    .colab-df-container {\n",
              "      display:flex;\n",
              "      flex-wrap:wrap;\n",
              "      gap: 12px;\n",
              "    }\n",
              "\n",
              "    .colab-df-convert {\n",
              "      background-color: #E8F0FE;\n",
              "      border: none;\n",
              "      border-radius: 50%;\n",
              "      cursor: pointer;\n",
              "      display: none;\n",
              "      fill: #1967D2;\n",
              "      height: 32px;\n",
              "      padding: 0 0 0 0;\n",
              "      width: 32px;\n",
              "    }\n",
              "\n",
              "    .colab-df-convert:hover {\n",
              "      background-color: #E2EBFA;\n",
              "      box-shadow: 0px 1px 2px rgba(60, 64, 67, 0.3), 0px 1px 3px 1px rgba(60, 64, 67, 0.15);\n",
              "      fill: #174EA6;\n",
              "    }\n",
              "\n",
              "    [theme=dark] .colab-df-convert {\n",
              "      background-color: #3B4455;\n",
              "      fill: #D2E3FC;\n",
              "    }\n",
              "\n",
              "    [theme=dark] .colab-df-convert:hover {\n",
              "      background-color: #434B5C;\n",
              "      box-shadow: 0px 1px 3px 1px rgba(0, 0, 0, 0.15);\n",
              "      filter: drop-shadow(0px 1px 2px rgba(0, 0, 0, 0.3));\n",
              "      fill: #FFFFFF;\n",
              "    }\n",
              "  </style>\n",
              "\n",
              "      <script>\n",
              "        const buttonEl =\n",
              "          document.querySelector('#df-e2c689a3-9116-44ff-b8c5-8e7e30bbab22 button.colab-df-convert');\n",
              "        buttonEl.style.display =\n",
              "          google.colab.kernel.accessAllowed ? 'block' : 'none';\n",
              "\n",
              "        async function convertToInteractive(key) {\n",
              "          const element = document.querySelector('#df-e2c689a3-9116-44ff-b8c5-8e7e30bbab22');\n",
              "          const dataTable =\n",
              "            await google.colab.kernel.invokeFunction('convertToInteractive',\n",
              "                                                     [key], {});\n",
              "          if (!dataTable) return;\n",
              "\n",
              "          const docLinkHtml = 'Like what you see? Visit the ' +\n",
              "            '<a target=\"_blank\" href=https://colab.research.google.com/notebooks/data_table.ipynb>data table notebook</a>'\n",
              "            + ' to learn more about interactive tables.';\n",
              "          element.innerHTML = '';\n",
              "          dataTable['output_type'] = 'display_data';\n",
              "          await google.colab.output.renderOutput(dataTable, element);\n",
              "          const docLink = document.createElement('div');\n",
              "          docLink.innerHTML = docLinkHtml;\n",
              "          element.appendChild(docLink);\n",
              "        }\n",
              "      </script>\n",
              "    </div>\n",
              "  </div>\n",
              "  "
            ]
          },
          "metadata": {},
          "execution_count": 8
        }
      ],
      "source": [
        "data.describe()"
      ]
    },
    {
      "cell_type": "code",
      "execution_count": null,
      "metadata": {
        "colab": {
          "base_uri": "https://localhost:8080/"
        },
        "id": "Pd6f-ftuVM-i",
        "outputId": "aa8ba80a-9330-4f5a-be5e-1570de399ed0"
      },
      "outputs": [
        {
          "output_type": "stream",
          "name": "stdout",
          "text": [
            "<class 'pandas.core.frame.DataFrame'>\n",
            "RangeIndex: 767 entries, 0 to 766\n",
            "Data columns (total 68 columns):\n",
            " #   Column                             Non-Null Count  Dtype  \n",
            "---  ------                             --------------  -----  \n",
            " 0   Start                              767 non-null    object \n",
            " 1   Finish                             767 non-null    object \n",
            " 2   Active Calories (kcal)             767 non-null    float64\n",
            " 3   Biotin (mcg)                       767 non-null    float64\n",
            " 4   Blood Alcohol Content (%)          767 non-null    float64\n",
            " 5   Blood Glucose (mg/dL)              767 non-null    float64\n",
            " 6   Blood Pressure (Diastolic) (mmHg)  767 non-null    float64\n",
            " 7   Blood Pressure (Systolic) (mmHg)   767 non-null    float64\n",
            " 8   Body Fat Percentage (%)            767 non-null    float64\n",
            " 9   Body Mass Index (count)            767 non-null    float64\n",
            " 10  Body Temperature (degC)            767 non-null    float64\n",
            " 11  Basal Body Temperature (degC)      767 non-null    float64\n",
            " 12  Caffeine (mg)                      767 non-null    float64\n",
            " 13  Calcium (mg)                       767 non-null    float64\n",
            " 14  Carbohydrates (mg)                 767 non-null    float64\n",
            " 15  Chloride (mg)                      767 non-null    float64\n",
            " 16  Cholesterol (mg)                   767 non-null    float64\n",
            " 17  Chromium (mcg)                     767 non-null    float64\n",
            " 18  Copper (mcg)                       767 non-null    float64\n",
            " 19  Cycling Distance (mi)              767 non-null    float64\n",
            " 20  Dietary Calories (cal)             767 non-null    float64\n",
            " 21  Distance (km)                      767 non-null    float64\n",
            " 22  Electrodermal Activity (mcS)       767 non-null    float64\n",
            " 23  Fiber (g)                          767 non-null    float64\n",
            " 24  Flights Climbed (count)            767 non-null    float64\n",
            " 25  Folate (mcg)                       767 non-null    float64\n",
            " 26  Forced Expiratory Volume (L)       767 non-null    float64\n",
            " 27  Forced Vital Capacity (L)          767 non-null    float64\n",
            " 28  Heart Rate (count/min)             767 non-null    float64\n",
            " 29  Inhaler Usage (count)              767 non-null    float64\n",
            " 30  Iodine (mcg)                       767 non-null    float64\n",
            " 31  Lean Body Mass (kg)                767 non-null    float64\n",
            " 32  Magnesium (mg)                     767 non-null    float64\n",
            " 33  Manganese (mg)                     767 non-null    float64\n",
            " 34  Molybdenum (mcg)                   767 non-null    float64\n",
            " 35  Monosaturated Fat (g)              767 non-null    float64\n",
            " 36  Niacin (mg)                        767 non-null    float64\n",
            " 37  NikeFuel (count)                   767 non-null    float64\n",
            " 38  Number of Times Fallen (count)     767 non-null    float64\n",
            " 39  Oxygen Saturation (%)              767 non-null    float64\n",
            " 40  Pantothenic Acid (mg)              767 non-null    float64\n",
            " 41  Peak Expiratory Flow Rate (L/min)  767 non-null    float64\n",
            " 42  Peripheral Perfusion Index (%)     767 non-null    float64\n",
            " 43  Phosphorus (mg)                    767 non-null    float64\n",
            " 44  Polyunsaturated Fat (g)            767 non-null    float64\n",
            " 45  Potassium (mg)                     767 non-null    float64\n",
            " 46  Protein (g)                        767 non-null    float64\n",
            " 47  Respiratory Rate (count/min)       767 non-null    float64\n",
            " 48  Resting Calories (kcal)            767 non-null    float64\n",
            " 49  Riboflavin (mg)                    767 non-null    float64\n",
            " 50  Saturated Fat (g)                  767 non-null    float64\n",
            " 51  Selenium (mcg)                     767 non-null    float64\n",
            " 52  Sodium (mg)                        767 non-null    float64\n",
            " 53  Steps (count)                      767 non-null    float64\n",
            " 54  Sugar (g)                          767 non-null    float64\n",
            " 55  Thiamin (mg)                       767 non-null    float64\n",
            " 56  Total Fat (g)                      767 non-null    float64\n",
            " 57  Vitamin A (mcg)                    767 non-null    float64\n",
            " 58  Vitamin B12 (mcg)                  767 non-null    float64\n",
            " 59  Vitamin B6 (mg)                    767 non-null    float64\n",
            " 60  Vitamin C (mg)                     767 non-null    float64\n",
            " 61  Vitamin D (mcg)                    767 non-null    float64\n",
            " 62  Vitamin E (mg)                     767 non-null    float64\n",
            " 63  Vitamin K (mcg)                    767 non-null    float64\n",
            " 64  Weight (kg)                        767 non-null    float64\n",
            " 65  Dietary Water (L)                  767 non-null    float64\n",
            " 66  Zinc (mg)                          767 non-null    float64\n",
            " 67  UV Exposure (count)                767 non-null    float64\n",
            "dtypes: float64(66), object(2)\n",
            "memory usage: 407.6+ KB\n"
          ]
        }
      ],
      "source": [
        "data.info()"
      ]
    },
    {
      "cell_type": "markdown",
      "metadata": {
        "id": "yQ4-pKGTo7t8"
      },
      "source": [
        "## IMPORTING DATA FROM LOCAL DRIVE"
      ]
    },
    {
      "cell_type": "code",
      "execution_count": null,
      "metadata": {
        "id": "pacoExsbpDti"
      },
      "outputs": [],
      "source": [
        "import pandas as pd\n",
        "from google.colab import files\n",
        "uploaded = files.upload()\n"
      ]
    },
    {
      "cell_type": "code",
      "execution_count": null,
      "metadata": {
        "id": "3dO5UklHpq1P"
      },
      "outputs": [],
      "source": [
        "import pandas as pd\n",
        "import io\n",
        "dt=pd.read_csv(io.BytesIO(uploaded['Stud_data.csv']))"
      ]
    },
    {
      "cell_type": "code",
      "execution_count": null,
      "metadata": {
        "id": "HcOz-fAskZ7t"
      },
      "outputs": [],
      "source": [
        "import pandas as pd\n",
        "dt=pd.read_csv(\"Stud_data.csv\")"
      ]
    },
    {
      "cell_type": "code",
      "execution_count": null,
      "metadata": {
        "colab": {
          "base_uri": "https://localhost:8080/",
          "height": 206
        },
        "id": "8a0ol_nVqO32",
        "outputId": "feb6c11c-ffdb-4f2d-a073-186583adcff3"
      },
      "outputs": [
        {
          "output_type": "execute_result",
          "data": {
            "text/plain": [
              "  Stud_id  Gender      Dept  Attendance  SemMarks     Name  Unnamed: 6\n",
              "0    M197  Female   Science        63.0     475.0     Ritu         NaN\n",
              "1    M181    Male  Commerce        86.0     303.0   Victor         NaN\n",
              "2    S137  Female  Commerce        79.0     587.0    Daven         NaN\n",
              "3    M193    Male  Commerce        47.0     403.0  Fernado         NaN\n",
              "4    C166  Female   Science        59.0     461.0     Rose         NaN"
            ],
            "text/html": [
              "\n",
              "  <div id=\"df-7ffecdfd-b934-4c2e-9dc5-a8a05585ac30\">\n",
              "    <div class=\"colab-df-container\">\n",
              "      <div>\n",
              "<style scoped>\n",
              "    .dataframe tbody tr th:only-of-type {\n",
              "        vertical-align: middle;\n",
              "    }\n",
              "\n",
              "    .dataframe tbody tr th {\n",
              "        vertical-align: top;\n",
              "    }\n",
              "\n",
              "    .dataframe thead th {\n",
              "        text-align: right;\n",
              "    }\n",
              "</style>\n",
              "<table border=\"1\" class=\"dataframe\">\n",
              "  <thead>\n",
              "    <tr style=\"text-align: right;\">\n",
              "      <th></th>\n",
              "      <th>Stud_id</th>\n",
              "      <th>Gender</th>\n",
              "      <th>Dept</th>\n",
              "      <th>Attendance</th>\n",
              "      <th>SemMarks</th>\n",
              "      <th>Name</th>\n",
              "      <th>Unnamed: 6</th>\n",
              "    </tr>\n",
              "  </thead>\n",
              "  <tbody>\n",
              "    <tr>\n",
              "      <th>0</th>\n",
              "      <td>M197</td>\n",
              "      <td>Female</td>\n",
              "      <td>Science</td>\n",
              "      <td>63.0</td>\n",
              "      <td>475.0</td>\n",
              "      <td>Ritu</td>\n",
              "      <td>NaN</td>\n",
              "    </tr>\n",
              "    <tr>\n",
              "      <th>1</th>\n",
              "      <td>M181</td>\n",
              "      <td>Male</td>\n",
              "      <td>Commerce</td>\n",
              "      <td>86.0</td>\n",
              "      <td>303.0</td>\n",
              "      <td>Victor</td>\n",
              "      <td>NaN</td>\n",
              "    </tr>\n",
              "    <tr>\n",
              "      <th>2</th>\n",
              "      <td>S137</td>\n",
              "      <td>Female</td>\n",
              "      <td>Commerce</td>\n",
              "      <td>79.0</td>\n",
              "      <td>587.0</td>\n",
              "      <td>Daven</td>\n",
              "      <td>NaN</td>\n",
              "    </tr>\n",
              "    <tr>\n",
              "      <th>3</th>\n",
              "      <td>M193</td>\n",
              "      <td>Male</td>\n",
              "      <td>Commerce</td>\n",
              "      <td>47.0</td>\n",
              "      <td>403.0</td>\n",
              "      <td>Fernado</td>\n",
              "      <td>NaN</td>\n",
              "    </tr>\n",
              "    <tr>\n",
              "      <th>4</th>\n",
              "      <td>C166</td>\n",
              "      <td>Female</td>\n",
              "      <td>Science</td>\n",
              "      <td>59.0</td>\n",
              "      <td>461.0</td>\n",
              "      <td>Rose</td>\n",
              "      <td>NaN</td>\n",
              "    </tr>\n",
              "  </tbody>\n",
              "</table>\n",
              "</div>\n",
              "      <button class=\"colab-df-convert\" onclick=\"convertToInteractive('df-7ffecdfd-b934-4c2e-9dc5-a8a05585ac30')\"\n",
              "              title=\"Convert this dataframe to an interactive table.\"\n",
              "              style=\"display:none;\">\n",
              "        \n",
              "  <svg xmlns=\"http://www.w3.org/2000/svg\" height=\"24px\"viewBox=\"0 0 24 24\"\n",
              "       width=\"24px\">\n",
              "    <path d=\"M0 0h24v24H0V0z\" fill=\"none\"/>\n",
              "    <path d=\"M18.56 5.44l.94 2.06.94-2.06 2.06-.94-2.06-.94-.94-2.06-.94 2.06-2.06.94zm-11 1L8.5 8.5l.94-2.06 2.06-.94-2.06-.94L8.5 2.5l-.94 2.06-2.06.94zm10 10l.94 2.06.94-2.06 2.06-.94-2.06-.94-.94-2.06-.94 2.06-2.06.94z\"/><path d=\"M17.41 7.96l-1.37-1.37c-.4-.4-.92-.59-1.43-.59-.52 0-1.04.2-1.43.59L10.3 9.45l-7.72 7.72c-.78.78-.78 2.05 0 2.83L4 21.41c.39.39.9.59 1.41.59.51 0 1.02-.2 1.41-.59l7.78-7.78 2.81-2.81c.8-.78.8-2.07 0-2.86zM5.41 20L4 18.59l7.72-7.72 1.47 1.35L5.41 20z\"/>\n",
              "  </svg>\n",
              "      </button>\n",
              "      \n",
              "  <style>\n",
              "    .colab-df-container {\n",
              "      display:flex;\n",
              "      flex-wrap:wrap;\n",
              "      gap: 12px;\n",
              "    }\n",
              "\n",
              "    .colab-df-convert {\n",
              "      background-color: #E8F0FE;\n",
              "      border: none;\n",
              "      border-radius: 50%;\n",
              "      cursor: pointer;\n",
              "      display: none;\n",
              "      fill: #1967D2;\n",
              "      height: 32px;\n",
              "      padding: 0 0 0 0;\n",
              "      width: 32px;\n",
              "    }\n",
              "\n",
              "    .colab-df-convert:hover {\n",
              "      background-color: #E2EBFA;\n",
              "      box-shadow: 0px 1px 2px rgba(60, 64, 67, 0.3), 0px 1px 3px 1px rgba(60, 64, 67, 0.15);\n",
              "      fill: #174EA6;\n",
              "    }\n",
              "\n",
              "    [theme=dark] .colab-df-convert {\n",
              "      background-color: #3B4455;\n",
              "      fill: #D2E3FC;\n",
              "    }\n",
              "\n",
              "    [theme=dark] .colab-df-convert:hover {\n",
              "      background-color: #434B5C;\n",
              "      box-shadow: 0px 1px 3px 1px rgba(0, 0, 0, 0.15);\n",
              "      filter: drop-shadow(0px 1px 2px rgba(0, 0, 0, 0.3));\n",
              "      fill: #FFFFFF;\n",
              "    }\n",
              "  </style>\n",
              "\n",
              "      <script>\n",
              "        const buttonEl =\n",
              "          document.querySelector('#df-7ffecdfd-b934-4c2e-9dc5-a8a05585ac30 button.colab-df-convert');\n",
              "        buttonEl.style.display =\n",
              "          google.colab.kernel.accessAllowed ? 'block' : 'none';\n",
              "\n",
              "        async function convertToInteractive(key) {\n",
              "          const element = document.querySelector('#df-7ffecdfd-b934-4c2e-9dc5-a8a05585ac30');\n",
              "          const dataTable =\n",
              "            await google.colab.kernel.invokeFunction('convertToInteractive',\n",
              "                                                     [key], {});\n",
              "          if (!dataTable) return;\n",
              "\n",
              "          const docLinkHtml = 'Like what you see? Visit the ' +\n",
              "            '<a target=\"_blank\" href=https://colab.research.google.com/notebooks/data_table.ipynb>data table notebook</a>'\n",
              "            + ' to learn more about interactive tables.';\n",
              "          element.innerHTML = '';\n",
              "          dataTable['output_type'] = 'display_data';\n",
              "          await google.colab.output.renderOutput(dataTable, element);\n",
              "          const docLink = document.createElement('div');\n",
              "          docLink.innerHTML = docLinkHtml;\n",
              "          element.appendChild(docLink);\n",
              "        }\n",
              "      </script>\n",
              "    </div>\n",
              "  </div>\n",
              "  "
            ]
          },
          "metadata": {},
          "execution_count": 16
        }
      ],
      "source": [
        "dt.head()"
      ]
    },
    {
      "cell_type": "code",
      "execution_count": null,
      "metadata": {
        "colab": {
          "base_uri": "https://localhost:8080/",
          "height": 423
        },
        "id": "xJEK6UdCkZ7t",
        "outputId": "7e536b47-4518-41fb-851a-dd942cecd432"
      },
      "outputs": [
        {
          "output_type": "execute_result",
          "data": {
            "text/plain": [
              "    Stud_id  Gender      Dept  Attendance  SemMarks     Name\n",
              "0      M197  Female   Science        63.0     475.0     Ritu\n",
              "1      M181    Male  Commerce        86.0     303.0   Victor\n",
              "2      S137  Female  Commerce        79.0     587.0    Daven\n",
              "3      M193    Male  Commerce        47.0     403.0  Fernado\n",
              "4      C166  Female   Science        59.0     461.0     Rose\n",
              "..      ...     ...       ...         ...       ...      ...\n",
              "102    M200  Female   Science        67.0     426.0      NaN\n",
              "103    S148    Male  Commerce        45.0     297.0      NaN\n",
              "104    M186  Female  Commerce        53.0     438.0      NaN\n",
              "105    C167    Male   Science        59.0     288.0      NaN\n",
              "106    A128  Female  Commerce         NaN       NaN      NaN\n",
              "\n",
              "[107 rows x 6 columns]"
            ],
            "text/html": [
              "\n",
              "  <div id=\"df-ff4fe2a9-bcbf-44b6-8fc1-98ee0739a447\">\n",
              "    <div class=\"colab-df-container\">\n",
              "      <div>\n",
              "<style scoped>\n",
              "    .dataframe tbody tr th:only-of-type {\n",
              "        vertical-align: middle;\n",
              "    }\n",
              "\n",
              "    .dataframe tbody tr th {\n",
              "        vertical-align: top;\n",
              "    }\n",
              "\n",
              "    .dataframe thead th {\n",
              "        text-align: right;\n",
              "    }\n",
              "</style>\n",
              "<table border=\"1\" class=\"dataframe\">\n",
              "  <thead>\n",
              "    <tr style=\"text-align: right;\">\n",
              "      <th></th>\n",
              "      <th>Stud_id</th>\n",
              "      <th>Gender</th>\n",
              "      <th>Dept</th>\n",
              "      <th>Attendance</th>\n",
              "      <th>SemMarks</th>\n",
              "      <th>Name</th>\n",
              "    </tr>\n",
              "  </thead>\n",
              "  <tbody>\n",
              "    <tr>\n",
              "      <th>0</th>\n",
              "      <td>M197</td>\n",
              "      <td>Female</td>\n",
              "      <td>Science</td>\n",
              "      <td>63.0</td>\n",
              "      <td>475.0</td>\n",
              "      <td>Ritu</td>\n",
              "    </tr>\n",
              "    <tr>\n",
              "      <th>1</th>\n",
              "      <td>M181</td>\n",
              "      <td>Male</td>\n",
              "      <td>Commerce</td>\n",
              "      <td>86.0</td>\n",
              "      <td>303.0</td>\n",
              "      <td>Victor</td>\n",
              "    </tr>\n",
              "    <tr>\n",
              "      <th>2</th>\n",
              "      <td>S137</td>\n",
              "      <td>Female</td>\n",
              "      <td>Commerce</td>\n",
              "      <td>79.0</td>\n",
              "      <td>587.0</td>\n",
              "      <td>Daven</td>\n",
              "    </tr>\n",
              "    <tr>\n",
              "      <th>3</th>\n",
              "      <td>M193</td>\n",
              "      <td>Male</td>\n",
              "      <td>Commerce</td>\n",
              "      <td>47.0</td>\n",
              "      <td>403.0</td>\n",
              "      <td>Fernado</td>\n",
              "    </tr>\n",
              "    <tr>\n",
              "      <th>4</th>\n",
              "      <td>C166</td>\n",
              "      <td>Female</td>\n",
              "      <td>Science</td>\n",
              "      <td>59.0</td>\n",
              "      <td>461.0</td>\n",
              "      <td>Rose</td>\n",
              "    </tr>\n",
              "    <tr>\n",
              "      <th>...</th>\n",
              "      <td>...</td>\n",
              "      <td>...</td>\n",
              "      <td>...</td>\n",
              "      <td>...</td>\n",
              "      <td>...</td>\n",
              "      <td>...</td>\n",
              "    </tr>\n",
              "    <tr>\n",
              "      <th>102</th>\n",
              "      <td>M200</td>\n",
              "      <td>Female</td>\n",
              "      <td>Science</td>\n",
              "      <td>67.0</td>\n",
              "      <td>426.0</td>\n",
              "      <td>NaN</td>\n",
              "    </tr>\n",
              "    <tr>\n",
              "      <th>103</th>\n",
              "      <td>S148</td>\n",
              "      <td>Male</td>\n",
              "      <td>Commerce</td>\n",
              "      <td>45.0</td>\n",
              "      <td>297.0</td>\n",
              "      <td>NaN</td>\n",
              "    </tr>\n",
              "    <tr>\n",
              "      <th>104</th>\n",
              "      <td>M186</td>\n",
              "      <td>Female</td>\n",
              "      <td>Commerce</td>\n",
              "      <td>53.0</td>\n",
              "      <td>438.0</td>\n",
              "      <td>NaN</td>\n",
              "    </tr>\n",
              "    <tr>\n",
              "      <th>105</th>\n",
              "      <td>C167</td>\n",
              "      <td>Male</td>\n",
              "      <td>Science</td>\n",
              "      <td>59.0</td>\n",
              "      <td>288.0</td>\n",
              "      <td>NaN</td>\n",
              "    </tr>\n",
              "    <tr>\n",
              "      <th>106</th>\n",
              "      <td>A128</td>\n",
              "      <td>Female</td>\n",
              "      <td>Commerce</td>\n",
              "      <td>NaN</td>\n",
              "      <td>NaN</td>\n",
              "      <td>NaN</td>\n",
              "    </tr>\n",
              "  </tbody>\n",
              "</table>\n",
              "<p>107 rows × 6 columns</p>\n",
              "</div>\n",
              "      <button class=\"colab-df-convert\" onclick=\"convertToInteractive('df-ff4fe2a9-bcbf-44b6-8fc1-98ee0739a447')\"\n",
              "              title=\"Convert this dataframe to an interactive table.\"\n",
              "              style=\"display:none;\">\n",
              "        \n",
              "  <svg xmlns=\"http://www.w3.org/2000/svg\" height=\"24px\"viewBox=\"0 0 24 24\"\n",
              "       width=\"24px\">\n",
              "    <path d=\"M0 0h24v24H0V0z\" fill=\"none\"/>\n",
              "    <path d=\"M18.56 5.44l.94 2.06.94-2.06 2.06-.94-2.06-.94-.94-2.06-.94 2.06-2.06.94zm-11 1L8.5 8.5l.94-2.06 2.06-.94-2.06-.94L8.5 2.5l-.94 2.06-2.06.94zm10 10l.94 2.06.94-2.06 2.06-.94-2.06-.94-.94-2.06-.94 2.06-2.06.94z\"/><path d=\"M17.41 7.96l-1.37-1.37c-.4-.4-.92-.59-1.43-.59-.52 0-1.04.2-1.43.59L10.3 9.45l-7.72 7.72c-.78.78-.78 2.05 0 2.83L4 21.41c.39.39.9.59 1.41.59.51 0 1.02-.2 1.41-.59l7.78-7.78 2.81-2.81c.8-.78.8-2.07 0-2.86zM5.41 20L4 18.59l7.72-7.72 1.47 1.35L5.41 20z\"/>\n",
              "  </svg>\n",
              "      </button>\n",
              "      \n",
              "  <style>\n",
              "    .colab-df-container {\n",
              "      display:flex;\n",
              "      flex-wrap:wrap;\n",
              "      gap: 12px;\n",
              "    }\n",
              "\n",
              "    .colab-df-convert {\n",
              "      background-color: #E8F0FE;\n",
              "      border: none;\n",
              "      border-radius: 50%;\n",
              "      cursor: pointer;\n",
              "      display: none;\n",
              "      fill: #1967D2;\n",
              "      height: 32px;\n",
              "      padding: 0 0 0 0;\n",
              "      width: 32px;\n",
              "    }\n",
              "\n",
              "    .colab-df-convert:hover {\n",
              "      background-color: #E2EBFA;\n",
              "      box-shadow: 0px 1px 2px rgba(60, 64, 67, 0.3), 0px 1px 3px 1px rgba(60, 64, 67, 0.15);\n",
              "      fill: #174EA6;\n",
              "    }\n",
              "\n",
              "    [theme=dark] .colab-df-convert {\n",
              "      background-color: #3B4455;\n",
              "      fill: #D2E3FC;\n",
              "    }\n",
              "\n",
              "    [theme=dark] .colab-df-convert:hover {\n",
              "      background-color: #434B5C;\n",
              "      box-shadow: 0px 1px 3px 1px rgba(0, 0, 0, 0.15);\n",
              "      filter: drop-shadow(0px 1px 2px rgba(0, 0, 0, 0.3));\n",
              "      fill: #FFFFFF;\n",
              "    }\n",
              "  </style>\n",
              "\n",
              "      <script>\n",
              "        const buttonEl =\n",
              "          document.querySelector('#df-ff4fe2a9-bcbf-44b6-8fc1-98ee0739a447 button.colab-df-convert');\n",
              "        buttonEl.style.display =\n",
              "          google.colab.kernel.accessAllowed ? 'block' : 'none';\n",
              "\n",
              "        async function convertToInteractive(key) {\n",
              "          const element = document.querySelector('#df-ff4fe2a9-bcbf-44b6-8fc1-98ee0739a447');\n",
              "          const dataTable =\n",
              "            await google.colab.kernel.invokeFunction('convertToInteractive',\n",
              "                                                     [key], {});\n",
              "          if (!dataTable) return;\n",
              "\n",
              "          const docLinkHtml = 'Like what you see? Visit the ' +\n",
              "            '<a target=\"_blank\" href=https://colab.research.google.com/notebooks/data_table.ipynb>data table notebook</a>'\n",
              "            + ' to learn more about interactive tables.';\n",
              "          element.innerHTML = '';\n",
              "          dataTable['output_type'] = 'display_data';\n",
              "          await google.colab.output.renderOutput(dataTable, element);\n",
              "          const docLink = document.createElement('div');\n",
              "          docLink.innerHTML = docLinkHtml;\n",
              "          element.appendChild(docLink);\n",
              "        }\n",
              "      </script>\n",
              "    </div>\n",
              "  </div>\n",
              "  "
            ]
          },
          "metadata": {},
          "execution_count": 17
        }
      ],
      "source": [
        "dt.drop('Unnamed: 6',axis=1)"
      ]
    },
    {
      "cell_type": "code",
      "execution_count": null,
      "metadata": {
        "colab": {
          "base_uri": "https://localhost:8080/",
          "height": 206
        },
        "id": "Z-8yejZnWXrS",
        "outputId": "53729ecb-b5f5-4009-dc62-0627aca908f8"
      },
      "outputs": [
        {
          "output_type": "execute_result",
          "data": {
            "text/plain": [
              "  Stud_id  Gender      Dept  Attendance  SemMarks    Name  Unnamed: 6\n",
              "5    S138    Male  Commerce        88.0     452.0   Vijay         NaN\n",
              "6    A102  Female      Arts        97.0     589.0   Honey         NaN\n",
              "7    A124    Male  Commerce        97.0     355.0   Randy         NaN\n",
              "8    C173  Female      Arts        97.0     473.0  Jannet         NaN\n",
              "9    C155    Male   Science         NaN     411.0  Pillai         NaN"
            ],
            "text/html": [
              "\n",
              "  <div id=\"df-0644cdbb-6769-4ac1-9413-39d3622c1867\">\n",
              "    <div class=\"colab-df-container\">\n",
              "      <div>\n",
              "<style scoped>\n",
              "    .dataframe tbody tr th:only-of-type {\n",
              "        vertical-align: middle;\n",
              "    }\n",
              "\n",
              "    .dataframe tbody tr th {\n",
              "        vertical-align: top;\n",
              "    }\n",
              "\n",
              "    .dataframe thead th {\n",
              "        text-align: right;\n",
              "    }\n",
              "</style>\n",
              "<table border=\"1\" class=\"dataframe\">\n",
              "  <thead>\n",
              "    <tr style=\"text-align: right;\">\n",
              "      <th></th>\n",
              "      <th>Stud_id</th>\n",
              "      <th>Gender</th>\n",
              "      <th>Dept</th>\n",
              "      <th>Attendance</th>\n",
              "      <th>SemMarks</th>\n",
              "      <th>Name</th>\n",
              "      <th>Unnamed: 6</th>\n",
              "    </tr>\n",
              "  </thead>\n",
              "  <tbody>\n",
              "    <tr>\n",
              "      <th>5</th>\n",
              "      <td>S138</td>\n",
              "      <td>Male</td>\n",
              "      <td>Commerce</td>\n",
              "      <td>88.0</td>\n",
              "      <td>452.0</td>\n",
              "      <td>Vijay</td>\n",
              "      <td>NaN</td>\n",
              "    </tr>\n",
              "    <tr>\n",
              "      <th>6</th>\n",
              "      <td>A102</td>\n",
              "      <td>Female</td>\n",
              "      <td>Arts</td>\n",
              "      <td>97.0</td>\n",
              "      <td>589.0</td>\n",
              "      <td>Honey</td>\n",
              "      <td>NaN</td>\n",
              "    </tr>\n",
              "    <tr>\n",
              "      <th>7</th>\n",
              "      <td>A124</td>\n",
              "      <td>Male</td>\n",
              "      <td>Commerce</td>\n",
              "      <td>97.0</td>\n",
              "      <td>355.0</td>\n",
              "      <td>Randy</td>\n",
              "      <td>NaN</td>\n",
              "    </tr>\n",
              "    <tr>\n",
              "      <th>8</th>\n",
              "      <td>C173</td>\n",
              "      <td>Female</td>\n",
              "      <td>Arts</td>\n",
              "      <td>97.0</td>\n",
              "      <td>473.0</td>\n",
              "      <td>Jannet</td>\n",
              "      <td>NaN</td>\n",
              "    </tr>\n",
              "    <tr>\n",
              "      <th>9</th>\n",
              "      <td>C155</td>\n",
              "      <td>Male</td>\n",
              "      <td>Science</td>\n",
              "      <td>NaN</td>\n",
              "      <td>411.0</td>\n",
              "      <td>Pillai</td>\n",
              "      <td>NaN</td>\n",
              "    </tr>\n",
              "  </tbody>\n",
              "</table>\n",
              "</div>\n",
              "      <button class=\"colab-df-convert\" onclick=\"convertToInteractive('df-0644cdbb-6769-4ac1-9413-39d3622c1867')\"\n",
              "              title=\"Convert this dataframe to an interactive table.\"\n",
              "              style=\"display:none;\">\n",
              "        \n",
              "  <svg xmlns=\"http://www.w3.org/2000/svg\" height=\"24px\"viewBox=\"0 0 24 24\"\n",
              "       width=\"24px\">\n",
              "    <path d=\"M0 0h24v24H0V0z\" fill=\"none\"/>\n",
              "    <path d=\"M18.56 5.44l.94 2.06.94-2.06 2.06-.94-2.06-.94-.94-2.06-.94 2.06-2.06.94zm-11 1L8.5 8.5l.94-2.06 2.06-.94-2.06-.94L8.5 2.5l-.94 2.06-2.06.94zm10 10l.94 2.06.94-2.06 2.06-.94-2.06-.94-.94-2.06-.94 2.06-2.06.94z\"/><path d=\"M17.41 7.96l-1.37-1.37c-.4-.4-.92-.59-1.43-.59-.52 0-1.04.2-1.43.59L10.3 9.45l-7.72 7.72c-.78.78-.78 2.05 0 2.83L4 21.41c.39.39.9.59 1.41.59.51 0 1.02-.2 1.41-.59l7.78-7.78 2.81-2.81c.8-.78.8-2.07 0-2.86zM5.41 20L4 18.59l7.72-7.72 1.47 1.35L5.41 20z\"/>\n",
              "  </svg>\n",
              "      </button>\n",
              "      \n",
              "  <style>\n",
              "    .colab-df-container {\n",
              "      display:flex;\n",
              "      flex-wrap:wrap;\n",
              "      gap: 12px;\n",
              "    }\n",
              "\n",
              "    .colab-df-convert {\n",
              "      background-color: #E8F0FE;\n",
              "      border: none;\n",
              "      border-radius: 50%;\n",
              "      cursor: pointer;\n",
              "      display: none;\n",
              "      fill: #1967D2;\n",
              "      height: 32px;\n",
              "      padding: 0 0 0 0;\n",
              "      width: 32px;\n",
              "    }\n",
              "\n",
              "    .colab-df-convert:hover {\n",
              "      background-color: #E2EBFA;\n",
              "      box-shadow: 0px 1px 2px rgba(60, 64, 67, 0.3), 0px 1px 3px 1px rgba(60, 64, 67, 0.15);\n",
              "      fill: #174EA6;\n",
              "    }\n",
              "\n",
              "    [theme=dark] .colab-df-convert {\n",
              "      background-color: #3B4455;\n",
              "      fill: #D2E3FC;\n",
              "    }\n",
              "\n",
              "    [theme=dark] .colab-df-convert:hover {\n",
              "      background-color: #434B5C;\n",
              "      box-shadow: 0px 1px 3px 1px rgba(0, 0, 0, 0.15);\n",
              "      filter: drop-shadow(0px 1px 2px rgba(0, 0, 0, 0.3));\n",
              "      fill: #FFFFFF;\n",
              "    }\n",
              "  </style>\n",
              "\n",
              "      <script>\n",
              "        const buttonEl =\n",
              "          document.querySelector('#df-0644cdbb-6769-4ac1-9413-39d3622c1867 button.colab-df-convert');\n",
              "        buttonEl.style.display =\n",
              "          google.colab.kernel.accessAllowed ? 'block' : 'none';\n",
              "\n",
              "        async function convertToInteractive(key) {\n",
              "          const element = document.querySelector('#df-0644cdbb-6769-4ac1-9413-39d3622c1867');\n",
              "          const dataTable =\n",
              "            await google.colab.kernel.invokeFunction('convertToInteractive',\n",
              "                                                     [key], {});\n",
              "          if (!dataTable) return;\n",
              "\n",
              "          const docLinkHtml = 'Like what you see? Visit the ' +\n",
              "            '<a target=\"_blank\" href=https://colab.research.google.com/notebooks/data_table.ipynb>data table notebook</a>'\n",
              "            + ' to learn more about interactive tables.';\n",
              "          element.innerHTML = '';\n",
              "          dataTable['output_type'] = 'display_data';\n",
              "          await google.colab.output.renderOutput(dataTable, element);\n",
              "          const docLink = document.createElement('div');\n",
              "          docLink.innerHTML = docLinkHtml;\n",
              "          element.appendChild(docLink);\n",
              "        }\n",
              "      </script>\n",
              "    </div>\n",
              "  </div>\n",
              "  "
            ]
          },
          "metadata": {},
          "execution_count": 18
        }
      ],
      "source": [
        "dt[5:10]"
      ]
    },
    {
      "cell_type": "code",
      "execution_count": null,
      "metadata": {
        "colab": {
          "base_uri": "https://localhost:8080/"
        },
        "id": "v9illv61WXoY",
        "outputId": "43a453e1-0a2e-4c9f-f517-c17a03042865"
      },
      "outputs": [
        {
          "output_type": "execute_result",
          "data": {
            "text/plain": [
              "array(['Science', 'Commerce', 'Arts', 'Comms', 'Art', nan], dtype=object)"
            ]
          },
          "metadata": {},
          "execution_count": 19
        }
      ],
      "source": [
        "dt.Dept.unique()"
      ]
    },
    {
      "cell_type": "markdown",
      "metadata": {
        "id": "ec4PsLKvW2kD"
      },
      "source": [
        "##Excercise 1\n",
        "\n",
        "(a). Import Stud_data downloaded in your computer"
      ]
    },
    {
      "cell_type": "code",
      "execution_count": null,
      "metadata": {
        "id": "htx-K18rW8zL"
      },
      "outputs": [],
      "source": [
        ""
      ]
    },
    {
      "cell_type": "code",
      "execution_count": null,
      "metadata": {
        "id": "GOrw5cPPXKvE"
      },
      "outputs": [],
      "source": [
        ""
      ]
    },
    {
      "cell_type": "markdown",
      "metadata": {
        "id": "03W4ZyrVXSkz"
      },
      "source": [
        "(b). read the first five lines of the data:"
      ]
    },
    {
      "cell_type": "code",
      "execution_count": null,
      "metadata": {
        "id": "OJHOoaBOXbL5"
      },
      "outputs": [],
      "source": [
        ""
      ]
    },
    {
      "cell_type": "markdown",
      "metadata": {
        "id": "epssswVFXdmy"
      },
      "source": [
        "(c).find the last five lines of the data"
      ]
    },
    {
      "cell_type": "code",
      "execution_count": null,
      "metadata": {
        "id": "36TGtrIjXm0g"
      },
      "outputs": [],
      "source": [
        ""
      ]
    },
    {
      "cell_type": "markdown",
      "metadata": {
        "id": "Y3r5Mg-sXno-"
      },
      "source": [
        "read the headers in the data"
      ]
    },
    {
      "cell_type": "code",
      "execution_count": null,
      "metadata": {
        "id": "JAK3aMy5XuUV"
      },
      "outputs": [],
      "source": [
        ""
      ]
    },
    {
      "cell_type": "markdown",
      "metadata": {
        "id": "U7yHkfL_X2VO"
      },
      "source": [
        "find the unique values in the data"
      ]
    },
    {
      "cell_type": "markdown",
      "metadata": {
        "id": "5KnNuJEDX7zf"
      },
      "source": [
        "read row 15 to 20"
      ]
    },
    {
      "cell_type": "code",
      "execution_count": null,
      "metadata": {
        "id": "GxCZ42X4YCkt"
      },
      "outputs": [],
      "source": [
        ""
      ]
    },
    {
      "cell_type": "markdown",
      "metadata": {
        "id": "APlD67OpoOMn"
      },
      "source": [
        "## MEAN"
      ]
    },
    {
      "cell_type": "code",
      "execution_count": null,
      "metadata": {
        "colab": {
          "base_uri": "https://localhost:8080/"
        },
        "id": "E5JIJ_2-oOMo",
        "outputId": "6f01b78f-74e9-4101-b391-2956f73dae2f"
      },
      "outputs": [
        {
          "output_type": "stream",
          "name": "stderr",
          "text": [
            "/usr/local/lib/python3.7/dist-packages/ipykernel_launcher.py:1: FutureWarning: Dropping of nuisance columns in DataFrame reductions (with 'numeric_only=None') is deprecated; in a future version this will raise TypeError.  Select only valid columns before calling the reduction.\n",
            "  \"\"\"Entry point for launching an IPython kernel.\n"
          ]
        },
        {
          "output_type": "execute_result",
          "data": {
            "text/plain": [
              "Active Calories (kcal)               346.623511\n",
              "Biotin (mcg)                           0.000000\n",
              "Blood Alcohol Content (%)              0.000000\n",
              "Blood Glucose (mg/dL)                  0.216093\n",
              "Blood Pressure (Diastolic) (mmHg)      0.912647\n",
              "                                        ...    \n",
              "Vitamin K (mcg)                        0.000000\n",
              "Weight (kg)                            8.273077\n",
              "Dietary Water (L)                      0.000000\n",
              "Zinc (mg)                              0.000000\n",
              "UV Exposure (count)                    0.000000\n",
              "Length: 66, dtype: float64"
            ]
          },
          "metadata": {},
          "execution_count": 21
        }
      ],
      "source": [
        "data.mean()"
      ]
    },
    {
      "cell_type": "markdown",
      "metadata": {
        "id": "ATstfIpjoOMs"
      },
      "source": [
        "To see specific rows(eg: 10 to 15)"
      ]
    },
    {
      "cell_type": "markdown",
      "metadata": {
        "id": "Keant0QRoOMu"
      },
      "source": [
        "## MEDIAN"
      ]
    },
    {
      "cell_type": "code",
      "execution_count": null,
      "metadata": {
        "colab": {
          "base_uri": "https://localhost:8080/"
        },
        "id": "DgWRzsquoOMw",
        "outputId": "59255674-7fc0-41e1-8fe5-429425e2c60a"
      },
      "outputs": [
        {
          "output_type": "stream",
          "name": "stderr",
          "text": [
            "/usr/local/lib/python3.7/dist-packages/ipykernel_launcher.py:1: FutureWarning: Dropping of nuisance columns in DataFrame reductions (with 'numeric_only=None') is deprecated; in a future version this will raise TypeError.  Select only valid columns before calling the reduction.\n",
            "  \"\"\"Entry point for launching an IPython kernel.\n"
          ]
        },
        {
          "output_type": "execute_result",
          "data": {
            "text/plain": [
              "Active Calories (kcal)               298.0\n",
              "Biotin (mcg)                           0.0\n",
              "Blood Alcohol Content (%)              0.0\n",
              "Blood Glucose (mg/dL)                  0.0\n",
              "Blood Pressure (Diastolic) (mmHg)      0.0\n",
              "                                     ...  \n",
              "Vitamin K (mcg)                        0.0\n",
              "Weight (kg)                            0.0\n",
              "Dietary Water (L)                      0.0\n",
              "Zinc (mg)                              0.0\n",
              "UV Exposure (count)                    0.0\n",
              "Length: 66, dtype: float64"
            ]
          },
          "metadata": {},
          "execution_count": 22
        }
      ],
      "source": [
        "data.median()"
      ]
    },
    {
      "cell_type": "code",
      "execution_count": null,
      "metadata": {
        "id": "att9KkV-Y8EA"
      },
      "outputs": [],
      "source": [
        "\n"
      ]
    },
    {
      "cell_type": "markdown",
      "metadata": {
        "id": "5b4DXfjCYY2e"
      },
      "source": [
        "## Excercise 2"
      ]
    },
    {
      "cell_type": "markdown",
      "metadata": {
        "id": "vxs1bnZ2YeeG"
      },
      "source": [
        "find the man of Stud_data\n"
      ]
    },
    {
      "cell_type": "markdown",
      "metadata": {
        "id": "LZgUt2iPoOM-"
      },
      "source": [
        "To see the properties of entries a dataset:"
      ]
    },
    {
      "cell_type": "code",
      "execution_count": null,
      "metadata": {
        "id": "LLdHGX3HYkhz"
      },
      "outputs": [],
      "source": [
        ""
      ]
    },
    {
      "cell_type": "markdown",
      "metadata": {
        "id": "g8EDtWhoYr5N"
      },
      "source": [
        "find median of stud_data"
      ]
    },
    {
      "cell_type": "code",
      "execution_count": null,
      "metadata": {
        "id": "Cr5F5y0zYvlr"
      },
      "outputs": [],
      "source": [
        ""
      ]
    },
    {
      "cell_type": "markdown",
      "metadata": {
        "id": "wpbjRE_4Yl5x"
      },
      "source": [
        ""
      ]
    },
    {
      "cell_type": "code",
      "execution_count": null,
      "metadata": {
        "id": "Wz6BWE82YzIJ"
      },
      "outputs": [],
      "source": [
        ""
      ]
    },
    {
      "cell_type": "code",
      "execution_count": null,
      "metadata": {
        "id": "TncLRBW2ZYVR"
      },
      "outputs": [],
      "source": [
        ""
      ]
    },
    {
      "cell_type": "code",
      "execution_count": null,
      "metadata": {
        "id": "59h6rjPdZZLY"
      },
      "outputs": [],
      "source": [
        ""
      ]
    },
    {
      "cell_type": "markdown",
      "metadata": {
        "id": "RRngM_ktoONZ"
      },
      "source": [
        "## Excercise 2 Solved\n",
        "## Mean"
      ]
    },
    {
      "cell_type": "code",
      "execution_count": null,
      "metadata": {
        "colab": {
          "base_uri": "https://localhost:8080/"
        },
        "id": "TbSTobWGoONa",
        "outputId": "501e4f40-4c83-4b96-a4e0-49a35c39c9d3"
      },
      "outputs": [
        {
          "output_type": "stream",
          "name": "stderr",
          "text": [
            "/usr/local/lib/python3.7/dist-packages/ipykernel_launcher.py:1: FutureWarning: Dropping of nuisance columns in DataFrame reductions (with 'numeric_only=None') is deprecated; in a future version this will raise TypeError.  Select only valid columns before calling the reduction.\n",
            "  \"\"\"Entry point for launching an IPython kernel.\n"
          ]
        },
        {
          "output_type": "execute_result",
          "data": {
            "text/plain": [
              "Attendance     68.828571\n",
              "SemMarks      399.537736\n",
              "Unnamed: 6           NaN\n",
              "dtype: float64"
            ]
          },
          "metadata": {},
          "execution_count": 23
        }
      ],
      "source": [
        "dt.mean()"
      ]
    },
    {
      "cell_type": "code",
      "execution_count": null,
      "metadata": {
        "id": "fjx37__BoONd"
      },
      "outputs": [],
      "source": [
        "dt.median()"
      ]
    },
    {
      "cell_type": "code",
      "execution_count": null,
      "metadata": {
        "id": "cRu7jA2ioONf"
      },
      "outputs": [],
      "source": [
        ""
      ]
    },
    {
      "cell_type": "markdown",
      "metadata": {
        "id": "rl4HUSkyZUCM"
      },
      "source": [
        "## To find mode"
      ]
    },
    {
      "cell_type": "code",
      "execution_count": null,
      "metadata": {
        "id": "0dH5XCO6Zhoq"
      },
      "outputs": [],
      "source": [
        "from scipy.stats import mode"
      ]
    },
    {
      "cell_type": "code",
      "execution_count": null,
      "metadata": {
        "colab": {
          "base_uri": "https://localhost:8080/"
        },
        "id": "ihX38PWGZiIz",
        "outputId": "472c046c-cfaf-426a-b182-fafe6e77c0da"
      },
      "outputs": [
        {
          "output_type": "execute_result",
          "data": {
            "text/plain": [
              "ModeResult(mode=array([97.]), count=array([6]))"
            ]
          },
          "metadata": {},
          "execution_count": 25
        }
      ],
      "source": [
        "mode(dt.Attendance)"
      ]
    },
    {
      "cell_type": "markdown",
      "metadata": {
        "id": "TPerUirpX-RA"
      },
      "source": [
        "## Data Preprocessing"
      ]
    },
    {
      "cell_type": "code",
      "execution_count": null,
      "metadata": {
        "id": "n0v-OOiVhxjW"
      },
      "outputs": [],
      "source": [
        "dt.columns"
      ]
    },
    {
      "cell_type": "code",
      "execution_count": null,
      "metadata": {
        "id": "7Fn1rdNQYQP-"
      },
      "outputs": [],
      "source": [
        "dt.Attendance.head()"
      ]
    },
    {
      "cell_type": "code",
      "execution_count": null,
      "metadata": {
        "id": "aQI7tdvIYVH3"
      },
      "outputs": [],
      "source": [
        "dt['Attendance'].mean()"
      ]
    },
    {
      "cell_type": "markdown",
      "metadata": {
        "id": "wNrnVQrfasY-"
      },
      "source": [
        "Sorting variable"
      ]
    },
    {
      "cell_type": "code",
      "execution_count": null,
      "metadata": {
        "id": "9Z7mT6OlacHW"
      },
      "outputs": [],
      "source": [
        "dt['Attendance'].sort_values(ascending=True)"
      ]
    },
    {
      "cell_type": "markdown",
      "metadata": {
        "id": "BZl9Yt7ZbVVv"
      },
      "source": [
        "Sort the entire data on a specific variable"
      ]
    },
    {
      "cell_type": "code",
      "execution_count": null,
      "metadata": {
        "id": "EjwCcD7kbYzm"
      },
      "outputs": [],
      "source": [
        "dt.sort_index(by='Attendance', ascending=True)"
      ]
    },
    {
      "cell_type": "markdown",
      "metadata": {
        "id": "4SBlFytkcOoa"
      },
      "source": [
        "Transform Variable"
      ]
    },
    {
      "cell_type": "code",
      "execution_count": null,
      "metadata": {
        "id": "O127qnpcb0k0"
      },
      "outputs": [],
      "source": [
        "dt['newatt']=dt['Attendance']*(10/100)\n",
        "\n",
        "newattendance=dt['Attendance']*(10/100)"
      ]
    },
    {
      "cell_type": "markdown",
      "metadata": {
        "id": "glzx3OgFxAKw"
      },
      "source": [
        "Delete Duplicates"
      ]
    },
    {
      "cell_type": "code",
      "execution_count": null,
      "metadata": {
        "id": "yh0fy-0hxFEr"
      },
      "outputs": [],
      "source": [
        "dt.drop_duplicates(['Names'])"
      ]
    },
    {
      "cell_type": "markdown",
      "metadata": {
        "id": "YODtv_vXcTtI"
      },
      "source": [
        "Delete a column"
      ]
    },
    {
      "cell_type": "code",
      "execution_count": null,
      "metadata": {
        "id": "5XaXiCJAiDNl"
      },
      "outputs": [],
      "source": [
        "dt.columns"
      ]
    },
    {
      "cell_type": "code",
      "execution_count": null,
      "metadata": {
        "id": "d0E08nugb0iY"
      },
      "outputs": [],
      "source": [
        "del dt['Stud_id']"
      ]
    },
    {
      "cell_type": "code",
      "execution_count": null,
      "metadata": {
        "id": "q1viz99Qb0gP"
      },
      "outputs": [],
      "source": [
        "dt.columns"
      ]
    },
    {
      "cell_type": "markdown",
      "metadata": {
        "id": "M1OZ7ms1eGcj"
      },
      "source": [
        "Select Variables to make  a new columns"
      ]
    },
    {
      "cell_type": "code",
      "execution_count": null,
      "metadata": {
        "id": "l3J7XBErd6al"
      },
      "outputs": [],
      "source": [
        "cols=['Dept','Attendance']"
      ]
    },
    {
      "cell_type": "code",
      "execution_count": null,
      "metadata": {
        "id": "HiZanFhgzBN2"
      },
      "outputs": [],
      "source": [
        "sel_data=dt[cols]"
      ]
    },
    {
      "cell_type": "code",
      "execution_count": null,
      "metadata": {
        "id": "KlFOfSVOzIWt"
      },
      "outputs": [],
      "source": [
        "sel_data.columns"
      ]
    },
    {
      "cell_type": "code",
      "execution_count": null,
      "metadata": {
        "id": "Sv4RujKob0a5"
      },
      "outputs": [],
      "source": [
        "sel_data.head()"
      ]
    },
    {
      "cell_type": "markdown",
      "metadata": {
        "id": "9ErR-1X6ey13"
      },
      "source": [
        "# Missing Values Imputation "
      ]
    },
    {
      "cell_type": "code",
      "execution_count": null,
      "metadata": {
        "colab": {
          "base_uri": "https://localhost:8080/",
          "height": 206
        },
        "id": "QhoK0F1akZ72",
        "outputId": "5ab74119-adff-4238-821a-2c219f0519ef"
      },
      "outputs": [
        {
          "output_type": "execute_result",
          "data": {
            "text/plain": [
              "  Stud_id  Gender      Dept  Attendance  SemMarks     Name  Unnamed: 6  newatt\n",
              "0    M197  Female   Science        63.0     475.0     Ritu         NaN     6.3\n",
              "1    M181    Male  Commerce        86.0     303.0   Victor         NaN     8.6\n",
              "2    S137  Female  Commerce        79.0     587.0    Daven         NaN     7.9\n",
              "3    M193    Male  Commerce        47.0     403.0  Fernado         NaN     4.7\n",
              "4    C166  Female   Science        59.0     461.0     Rose         NaN     5.9"
            ],
            "text/html": [
              "\n",
              "  <div id=\"df-89be3cfc-c582-4431-a7ac-b59e7c3c7523\">\n",
              "    <div class=\"colab-df-container\">\n",
              "      <div>\n",
              "<style scoped>\n",
              "    .dataframe tbody tr th:only-of-type {\n",
              "        vertical-align: middle;\n",
              "    }\n",
              "\n",
              "    .dataframe tbody tr th {\n",
              "        vertical-align: top;\n",
              "    }\n",
              "\n",
              "    .dataframe thead th {\n",
              "        text-align: right;\n",
              "    }\n",
              "</style>\n",
              "<table border=\"1\" class=\"dataframe\">\n",
              "  <thead>\n",
              "    <tr style=\"text-align: right;\">\n",
              "      <th></th>\n",
              "      <th>Stud_id</th>\n",
              "      <th>Gender</th>\n",
              "      <th>Dept</th>\n",
              "      <th>Attendance</th>\n",
              "      <th>SemMarks</th>\n",
              "      <th>Name</th>\n",
              "      <th>Unnamed: 6</th>\n",
              "      <th>newatt</th>\n",
              "    </tr>\n",
              "  </thead>\n",
              "  <tbody>\n",
              "    <tr>\n",
              "      <th>0</th>\n",
              "      <td>M197</td>\n",
              "      <td>Female</td>\n",
              "      <td>Science</td>\n",
              "      <td>63.0</td>\n",
              "      <td>475.0</td>\n",
              "      <td>Ritu</td>\n",
              "      <td>NaN</td>\n",
              "      <td>6.3</td>\n",
              "    </tr>\n",
              "    <tr>\n",
              "      <th>1</th>\n",
              "      <td>M181</td>\n",
              "      <td>Male</td>\n",
              "      <td>Commerce</td>\n",
              "      <td>86.0</td>\n",
              "      <td>303.0</td>\n",
              "      <td>Victor</td>\n",
              "      <td>NaN</td>\n",
              "      <td>8.6</td>\n",
              "    </tr>\n",
              "    <tr>\n",
              "      <th>2</th>\n",
              "      <td>S137</td>\n",
              "      <td>Female</td>\n",
              "      <td>Commerce</td>\n",
              "      <td>79.0</td>\n",
              "      <td>587.0</td>\n",
              "      <td>Daven</td>\n",
              "      <td>NaN</td>\n",
              "      <td>7.9</td>\n",
              "    </tr>\n",
              "    <tr>\n",
              "      <th>3</th>\n",
              "      <td>M193</td>\n",
              "      <td>Male</td>\n",
              "      <td>Commerce</td>\n",
              "      <td>47.0</td>\n",
              "      <td>403.0</td>\n",
              "      <td>Fernado</td>\n",
              "      <td>NaN</td>\n",
              "      <td>4.7</td>\n",
              "    </tr>\n",
              "    <tr>\n",
              "      <th>4</th>\n",
              "      <td>C166</td>\n",
              "      <td>Female</td>\n",
              "      <td>Science</td>\n",
              "      <td>59.0</td>\n",
              "      <td>461.0</td>\n",
              "      <td>Rose</td>\n",
              "      <td>NaN</td>\n",
              "      <td>5.9</td>\n",
              "    </tr>\n",
              "  </tbody>\n",
              "</table>\n",
              "</div>\n",
              "      <button class=\"colab-df-convert\" onclick=\"convertToInteractive('df-89be3cfc-c582-4431-a7ac-b59e7c3c7523')\"\n",
              "              title=\"Convert this dataframe to an interactive table.\"\n",
              "              style=\"display:none;\">\n",
              "        \n",
              "  <svg xmlns=\"http://www.w3.org/2000/svg\" height=\"24px\"viewBox=\"0 0 24 24\"\n",
              "       width=\"24px\">\n",
              "    <path d=\"M0 0h24v24H0V0z\" fill=\"none\"/>\n",
              "    <path d=\"M18.56 5.44l.94 2.06.94-2.06 2.06-.94-2.06-.94-.94-2.06-.94 2.06-2.06.94zm-11 1L8.5 8.5l.94-2.06 2.06-.94-2.06-.94L8.5 2.5l-.94 2.06-2.06.94zm10 10l.94 2.06.94-2.06 2.06-.94-2.06-.94-.94-2.06-.94 2.06-2.06.94z\"/><path d=\"M17.41 7.96l-1.37-1.37c-.4-.4-.92-.59-1.43-.59-.52 0-1.04.2-1.43.59L10.3 9.45l-7.72 7.72c-.78.78-.78 2.05 0 2.83L4 21.41c.39.39.9.59 1.41.59.51 0 1.02-.2 1.41-.59l7.78-7.78 2.81-2.81c.8-.78.8-2.07 0-2.86zM5.41 20L4 18.59l7.72-7.72 1.47 1.35L5.41 20z\"/>\n",
              "  </svg>\n",
              "      </button>\n",
              "      \n",
              "  <style>\n",
              "    .colab-df-container {\n",
              "      display:flex;\n",
              "      flex-wrap:wrap;\n",
              "      gap: 12px;\n",
              "    }\n",
              "\n",
              "    .colab-df-convert {\n",
              "      background-color: #E8F0FE;\n",
              "      border: none;\n",
              "      border-radius: 50%;\n",
              "      cursor: pointer;\n",
              "      display: none;\n",
              "      fill: #1967D2;\n",
              "      height: 32px;\n",
              "      padding: 0 0 0 0;\n",
              "      width: 32px;\n",
              "    }\n",
              "\n",
              "    .colab-df-convert:hover {\n",
              "      background-color: #E2EBFA;\n",
              "      box-shadow: 0px 1px 2px rgba(60, 64, 67, 0.3), 0px 1px 3px 1px rgba(60, 64, 67, 0.15);\n",
              "      fill: #174EA6;\n",
              "    }\n",
              "\n",
              "    [theme=dark] .colab-df-convert {\n",
              "      background-color: #3B4455;\n",
              "      fill: #D2E3FC;\n",
              "    }\n",
              "\n",
              "    [theme=dark] .colab-df-convert:hover {\n",
              "      background-color: #434B5C;\n",
              "      box-shadow: 0px 1px 3px 1px rgba(0, 0, 0, 0.15);\n",
              "      filter: drop-shadow(0px 1px 2px rgba(0, 0, 0, 0.3));\n",
              "      fill: #FFFFFF;\n",
              "    }\n",
              "  </style>\n",
              "\n",
              "      <script>\n",
              "        const buttonEl =\n",
              "          document.querySelector('#df-89be3cfc-c582-4431-a7ac-b59e7c3c7523 button.colab-df-convert');\n",
              "        buttonEl.style.display =\n",
              "          google.colab.kernel.accessAllowed ? 'block' : 'none';\n",
              "\n",
              "        async function convertToInteractive(key) {\n",
              "          const element = document.querySelector('#df-89be3cfc-c582-4431-a7ac-b59e7c3c7523');\n",
              "          const dataTable =\n",
              "            await google.colab.kernel.invokeFunction('convertToInteractive',\n",
              "                                                     [key], {});\n",
              "          if (!dataTable) return;\n",
              "\n",
              "          const docLinkHtml = 'Like what you see? Visit the ' +\n",
              "            '<a target=\"_blank\" href=https://colab.research.google.com/notebooks/data_table.ipynb>data table notebook</a>'\n",
              "            + ' to learn more about interactive tables.';\n",
              "          element.innerHTML = '';\n",
              "          dataTable['output_type'] = 'display_data';\n",
              "          await google.colab.output.renderOutput(dataTable, element);\n",
              "          const docLink = document.createElement('div');\n",
              "          docLink.innerHTML = docLinkHtml;\n",
              "          element.appendChild(docLink);\n",
              "        }\n",
              "      </script>\n",
              "    </div>\n",
              "  </div>\n",
              "  "
            ]
          },
          "metadata": {},
          "execution_count": 28
        }
      ],
      "source": [
        "dt.head()"
      ]
    },
    {
      "cell_type": "code",
      "execution_count": null,
      "metadata": {
        "colab": {
          "base_uri": "https://localhost:8080/"
        },
        "id": "XBROx984kZ72",
        "outputId": "5b066461-4a20-48ff-9dfd-ba8f3d7a3c69"
      },
      "outputs": [
        {
          "output_type": "execute_result",
          "data": {
            "text/plain": [
              "Stud_id         0\n",
              "Gender          3\n",
              "Dept            2\n",
              "Attendance      2\n",
              "SemMarks        1\n",
              "Name           56\n",
              "Unnamed: 6    107\n",
              "newatt          2\n",
              "dtype: int64"
            ]
          },
          "metadata": {},
          "execution_count": 29
        }
      ],
      "source": [
        "dt.isnull().sum()"
      ]
    },
    {
      "cell_type": "code",
      "execution_count": null,
      "metadata": {
        "id": "hNOpOp9CkZ73"
      },
      "outputs": [],
      "source": [
        "null_data = dt[dt['Attendance'].isnull()]\n",
        "null_data"
      ]
    },
    {
      "cell_type": "code",
      "execution_count": null,
      "metadata": {
        "id": "9PYmbdptkZ73"
      },
      "outputs": [],
      "source": [
        "mean_attendance=dt['Attendance'].mean()\n",
        "dt['Attendance'].fillna(mean_attendance)"
      ]
    },
    {
      "cell_type": "code",
      "execution_count": null,
      "metadata": {
        "id": "daWRWxnukZ73"
      },
      "outputs": [],
      "source": [
        ""
      ]
    },
    {
      "cell_type": "markdown",
      "metadata": {
        "id": "VLwfGScSfehT"
      },
      "source": [
        "Filtering variable"
      ]
    },
    {
      "cell_type": "code",
      "execution_count": null,
      "metadata": {
        "id": "EBmOnZVyfiDJ"
      },
      "outputs": [],
      "source": [
        "dt[dt['SemMarks'] > 400]"
      ]
    },
    {
      "cell_type": "markdown",
      "metadata": {
        "id": "y8OfGzLTfxgx"
      },
      "source": [
        "Group variable for finding mean value"
      ]
    },
    {
      "cell_type": "code",
      "execution_count": null,
      "metadata": {
        "id": "1_1oXNbXf3Uo"
      },
      "outputs": [],
      "source": [
        "dt.groupby('Dept').Attendance.mean()"
      ]
    },
    {
      "cell_type": "markdown",
      "metadata": {
        "id": "dKKDUybZoONj"
      },
      "source": [
        "## Data Visualisation \n",
        "\n",
        "## Bar Chart"
      ]
    },
    {
      "cell_type": "markdown",
      "metadata": {
        "id": "4lo9fsC5X5q_"
      },
      "source": [
        ""
      ]
    },
    {
      "cell_type": "code",
      "execution_count": null,
      "metadata": {
        "id": "hY-IWT9moONj"
      },
      "outputs": [],
      "source": [
        "import matplotlib\n",
        "%matplotlib inline\n",
        "dt['Dept'].value_counts().plot(kind='pie')"
      ]
    },
    {
      "cell_type": "code",
      "execution_count": null,
      "metadata": {
        "id": "iR1LPjN-oONn"
      },
      "outputs": [],
      "source": [
        "dt['Dept'].value_counts().plot(kind='hist')"
      ]
    },
    {
      "cell_type": "code",
      "execution_count": null,
      "metadata": {
        "id": "1Y5qA2FHoONp"
      },
      "outputs": [],
      "source": [
        "dt['Dept'].value_counts().plot(kind='line')"
      ]
    },
    {
      "cell_type": "code",
      "execution_count": null,
      "metadata": {
        "id": "0gOlKfKmaCgW"
      },
      "outputs": [],
      "source": [
        ""
      ]
    },
    {
      "cell_type": "code",
      "execution_count": null,
      "metadata": {
        "id": "gNygF4kNgfR-"
      },
      "outputs": [],
      "source": [
        "dt['Attendance'].value_counts().plot(kind='hist',bins=10)"
      ]
    },
    {
      "cell_type": "code",
      "execution_count": null,
      "metadata": {
        "id": "eyVbCooDoON-"
      },
      "outputs": [],
      "source": [
        "dt.groupby('Dept')['Attendance'].mean().sort_values(ascending =True).plot(kind='barh')"
      ]
    },
    {
      "cell_type": "code",
      "execution_count": null,
      "metadata": {
        "id": "9g6tAG2IoOOA"
      },
      "outputs": [],
      "source": [
        "dt[['Attendance','SemMarks']].plot(x='Attendance',y='SemMarks',kind='scatter')"
      ]
    },
    {
      "cell_type": "code",
      "execution_count": null,
      "metadata": {
        "id": "6Z0dkv11vXwg"
      },
      "outputs": [],
      "source": [
        "dt[['Attendance','SemMarks']].plot(x='Attendance',y='SemMarks',kind='box')"
      ]
    },
    {
      "cell_type": "markdown",
      "metadata": {
        "id": "YTZ4AAKUgtMd"
      },
      "source": [
        "# # SD and Variance "
      ]
    },
    {
      "cell_type": "code",
      "execution_count": null,
      "metadata": {
        "id": "mqtfePX9gsV3"
      },
      "outputs": [],
      "source": [
        "dt.Attendance.std()"
      ]
    },
    {
      "cell_type": "code",
      "execution_count": null,
      "metadata": {
        "id": "-_D6hjOkNnAg"
      },
      "outputs": [],
      "source": [
        "dt.Attendance.var()"
      ]
    },
    {
      "cell_type": "code",
      "execution_count": null,
      "metadata": {
        "id": "A2Z_0ch1N3BJ"
      },
      "outputs": [],
      "source": [
        ""
      ]
    },
    {
      "cell_type": "markdown",
      "metadata": {
        "id": "WgosSUBThPgF"
      },
      "source": [
        "## Chi Square test "
      ]
    },
    {
      "cell_type": "markdown",
      "metadata": {
        "id": "fy-oAvwbh0yx"
      },
      "source": [
        "cross tab"
      ]
    },
    {
      "cell_type": "code",
      "execution_count": null,
      "metadata": {
        "id": "a_UB1pndKfaa"
      },
      "outputs": [],
      "source": [
        "dt.columns"
      ]
    },
    {
      "cell_type": "code",
      "execution_count": null,
      "metadata": {
        "id": "0Mt4IrXeImi9"
      },
      "outputs": [],
      "source": [
        "\n",
        "cstab=pd.crosstab(dt.Dept,dt.Gender,margins=False)\n",
        "cstab"
      ]
    },
    {
      "cell_type": "code",
      "execution_count": null,
      "metadata": {
        "id": "bk1cs0jAkZ77"
      },
      "outputs": [],
      "source": [
        "pd.crosstab(dt.Dept,dt.Gender, margins=True).style.background_gradient(cmap='summer_r')"
      ]
    },
    {
      "cell_type": "code",
      "execution_count": null,
      "metadata": {
        "id": "y1zkwwHQK7NF"
      },
      "outputs": [],
      "source": [
        "from scipy.stats import chi2_contingency as chi"
      ]
    },
    {
      "cell_type": "code",
      "execution_count": null,
      "metadata": {
        "id": "8CjzdWKnL4tl"
      },
      "outputs": [],
      "source": [
        "chi,p,dof,ex=chi(cstab,correction=False)"
      ]
    },
    {
      "cell_type": "code",
      "execution_count": null,
      "metadata": {
        "id": "8iXIzJuYMWlT"
      },
      "outputs": [],
      "source": [
        "chi,p,dof,ex"
      ]
    },
    {
      "cell_type": "markdown",
      "metadata": {
        "id": "NAXcr-v_h22_"
      },
      "source": [
        "## Correlations"
      ]
    },
    {
      "cell_type": "code",
      "execution_count": null,
      "metadata": {
        "id": "85NQGdkgh4Je"
      },
      "outputs": [],
      "source": [
        "dt.corr()"
      ]
    },
    {
      "cell_type": "code",
      "execution_count": null,
      "metadata": {
        "id": "B9CzgVH_itvb"
      },
      "outputs": [],
      "source": [
        "import seaborn as sns"
      ]
    },
    {
      "cell_type": "code",
      "execution_count": null,
      "metadata": {
        "id": "gvgqblFci285"
      },
      "outputs": [],
      "source": [
        "sns.heatmap(dt.corr())"
      ]
    },
    {
      "cell_type": "code",
      "execution_count": null,
      "metadata": {
        "id": "p_MfFxCwkZ79"
      },
      "outputs": [],
      "source": [
        "dt.Attendance.corr( dt.SemMarks)"
      ]
    },
    {
      "cell_type": "code",
      "execution_count": null,
      "metadata": {
        "id": "1G9WFFEokZ79"
      },
      "outputs": [],
      "source": [
        ""
      ]
    },
    {
      "cell_type": "code",
      "execution_count": null,
      "metadata": {
        "id": "-eBAZQV9kZ79"
      },
      "outputs": [],
      "source": [
        "sns.regplot(dt.Attendance,dt.SemMarks)"
      ]
    },
    {
      "cell_type": "code",
      "execution_count": null,
      "metadata": {
        "id": "aIsxMsfSkZ79"
      },
      "outputs": [],
      "source": [
        ""
      ]
    },
    {
      "cell_type": "markdown",
      "metadata": {
        "id": "p0CwaGO1kZ79"
      },
      "source": [
        "## Health Data"
      ]
    },
    {
      "cell_type": "code",
      "execution_count": null,
      "metadata": {
        "id": "qmcZ7OFKkZ7-"
      },
      "outputs": [],
      "source": [
        "import matplotlib.pyplot as plt\n",
        "plt.figure(figsize=(12, 9))\n",
        "sns.heatmap(data.loc[:, (data != 0).any(axis=0)].corr(), annot=True,cmap=\"RdYlGn\")"
      ]
    },
    {
      "cell_type": "code",
      "execution_count": null,
      "metadata": {
        "id": "2R5NLqSGkZ7-"
      },
      "outputs": [],
      "source": [
        ""
      ]
    },
    {
      "cell_type": "code",
      "execution_count": null,
      "metadata": {
        "id": "AfH28D73kZ7-"
      },
      "outputs": [],
      "source": [
        "!pip install pingouin"
      ]
    },
    {
      "cell_type": "code",
      "execution_count": null,
      "metadata": {
        "id": "RLQnaBJMkZ7-"
      },
      "outputs": [],
      "source": [
        "import pingouin as pg"
      ]
    },
    {
      "cell_type": "code",
      "execution_count": null,
      "metadata": {
        "id": "qWLOUqp3kZ7_"
      },
      "outputs": [],
      "source": [
        "pg.corr(dt.Attendance, dt.SemMarks)"
      ]
    },
    {
      "cell_type": "code",
      "execution_count": null,
      "metadata": {
        "id": "-YvG_7ZukZ7_"
      },
      "outputs": [],
      "source": [
        "pg.corr(dt.Attendance, dt.SemMarks, method='pearson').round(2)"
      ]
    },
    {
      "cell_type": "code",
      "execution_count": null,
      "metadata": {
        "id": "FtwilqRfkZ7_"
      },
      "outputs": [],
      "source": [
        "pg.corr(dt.Attendance, dt.SemMarks, method='spearman').round(2)"
      ]
    },
    {
      "cell_type": "code",
      "execution_count": null,
      "metadata": {
        "id": "f01BnrkMkZ7_"
      },
      "outputs": [],
      "source": [
        ""
      ]
    },
    {
      "cell_type": "markdown",
      "metadata": {
        "id": "kvEF8EzJkRCZ"
      },
      "source": [
        ""
      ]
    },
    {
      "cell_type": "code",
      "execution_count": null,
      "metadata": {
        "id": "xjqd3zswl8oC"
      },
      "outputs": [],
      "source": [
        "dt.head(1)"
      ]
    },
    {
      "cell_type": "code",
      "execution_count": null,
      "metadata": {
        "id": "NaTDpS14kZ8A"
      },
      "outputs": [],
      "source": [
        "from matplotlib import pyplot as plt"
      ]
    },
    {
      "cell_type": "code",
      "execution_count": null,
      "metadata": {
        "id": "i7aZ-hJ2kZ8A"
      },
      "outputs": [],
      "source": [
        "plt.scatter(dt['Attendance'],dt['SemMarks'],color ='g')\n",
        "plt.title(\"scatter plot\")\n",
        "plt.xlabel(\"Attendance\")\n",
        "plt.ylabel(\"SemMarks\")\n",
        "plt.show()"
      ]
    },
    {
      "cell_type": "code",
      "execution_count": null,
      "metadata": {
        "id": "vQYUAaeEkZ8A"
      },
      "outputs": [],
      "source": [
        "plt.scatter(dt['Attendance'],dt['SemMarks'],color ='g',s=50, marker='*')\n",
        "plt.title(\"scatter plot\")\n",
        "plt.xlabel(\"Attendance\")\n",
        "plt.ylabel(\"SemMarks\")\n",
        "plt.show()"
      ]
    },
    {
      "cell_type": "code",
      "execution_count": null,
      "metadata": {
        "id": "99JeCrxSkZ8A"
      },
      "outputs": [],
      "source": [
        ""
      ]
    },
    {
      "cell_type": "markdown",
      "metadata": {
        "id": "FDwONEGRkZ8A"
      },
      "source": [
        "# Pandas Profiling"
      ]
    },
    {
      "cell_type": "code",
      "execution_count": null,
      "metadata": {
        "id": "JEa9TyBVkZ8A"
      },
      "outputs": [],
      "source": [
        "! pip install https://github.com/pandas-profiling/pandas-profiling/archive/master.zip"
      ]
    },
    {
      "cell_type": "code",
      "execution_count": null,
      "metadata": {
        "id": "3o7Vc-H4kZ8B"
      },
      "outputs": [],
      "source": [
        ""
      ]
    },
    {
      "cell_type": "code",
      "execution_count": null,
      "metadata": {
        "id": "9SkoPVgHkZ8B"
      },
      "outputs": [],
      "source": [
        "from pandas_profiling import ProfileReport"
      ]
    },
    {
      "cell_type": "code",
      "execution_count": null,
      "metadata": {
        "id": "I8wYCu_WkZ8B"
      },
      "outputs": [],
      "source": [
        "profile= ProfileReport(data,\"Heath Data Model Profile\",html={\"style\": {'full_width':True}})"
      ]
    },
    {
      "cell_type": "code",
      "execution_count": null,
      "metadata": {
        "id": "6FAZecGekZ8B"
      },
      "outputs": [],
      "source": [
        "profile"
      ]
    },
    {
      "cell_type": "code",
      "execution_count": null,
      "metadata": {
        "id": "eiVRD3iYkZ8B"
      },
      "outputs": [],
      "source": [
        ""
      ]
    },
    {
      "cell_type": "markdown",
      "metadata": {
        "id": "uQoL0ucxkZ8B"
      },
      "source": [
        "See the link to read about [A Short History of Data Science](https://www.forbes.com/sites/gilpress/2013/05/28/a-very-short-history-of-data-science/?sh=1f0395c155cf) publihed by Forbes."
      ]
    },
    {
      "cell_type": "code",
      "execution_count": null,
      "metadata": {
        "id": "Ar50wUuqkZ8C"
      },
      "outputs": [],
      "source": [
        ""
      ]
    }
  ],
  "metadata": {
    "colab": {
      "collapsed_sections": [],
      "name": "Data_Analysis_using_Python_Workshop.ipynb",
      "provenance": [],
      "include_colab_link": true
    },
    "kernelspec": {
      "display_name": "Python 3",
      "language": "python",
      "name": "python3"
    },
    "language_info": {
      "codemirror_mode": {
        "name": "ipython",
        "version": 3
      },
      "file_extension": ".py",
      "mimetype": "text/x-python",
      "name": "python",
      "nbconvert_exporter": "python",
      "pygments_lexer": "ipython3",
      "version": "3.7.6"
    }
  },
  "nbformat": 4,
  "nbformat_minor": 0
}